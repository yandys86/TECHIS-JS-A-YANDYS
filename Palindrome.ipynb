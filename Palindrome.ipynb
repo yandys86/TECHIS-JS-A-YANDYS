{
  "nbformat": 4,
  "nbformat_minor": 0,
  "metadata": {
    "colab": {
      "name": "Palindrome.ipynb",
      "provenance": [],
      "authorship_tag": "ABX9TyN8/TGAmoQ4damq4+lam45C",
      "include_colab_link": true
    },
    "kernelspec": {
      "name": "python3",
      "display_name": "Python 3"
    },
    "language_info": {
      "name": "python"
    }
  },
  "cells": [
    {
      "cell_type": "markdown",
      "metadata": {
        "id": "view-in-github",
        "colab_type": "text"
      },
      "source": [
        "<a href=\"https://colab.research.google.com/github/yandys86/TECHIS-JS-A-YANDYS/blob/main/Palindrome.ipynb\" target=\"_parent\"><img src=\"https://colab.research.google.com/assets/colab-badge.svg\" alt=\"Open In Colab\"/></a>"
      ]
    },
    {
      "cell_type": "code",
      "execution_count": null,
      "metadata": {
        "id": "5jW5_vsVxw18"
      },
      "outputs": [],
      "source": [
        "number = int(input(\"Enter any number: \"))\n",
        "original = number\n",
        "reverse = 0\n",
        "\n",
        "while(number > 0):\n",
        "  res = number % 10\n",
        "  reverse = reverse * 10 + res\n",
        "  number = number // 10\n",
        "if(original == reverse):\n",
        "  print(\"Is Palindrome\")\n",
        "else:\n",
        "  print(\"Is not Palindrome\")\n"
      ]
    }
  ]
}