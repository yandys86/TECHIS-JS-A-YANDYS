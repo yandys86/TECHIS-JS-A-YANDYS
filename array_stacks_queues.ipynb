{
  "nbformat": 4,
  "nbformat_minor": 0,
  "metadata": {
    "colab": {
      "name": "array-stacks-queues.ipynb",
      "provenance": [],
      "authorship_tag": "ABX9TyPI4GLf/hJS/Gg8uammlHkQ",
      "include_colab_link": true
    },
    "kernelspec": {
      "name": "python3",
      "display_name": "Python 3"
    },
    "language_info": {
      "name": "python"
    }
  },
  "cells": [
    {
      "cell_type": "markdown",
      "metadata": {
        "id": "view-in-github",
        "colab_type": "text"
      },
      "source": [
        "<a href=\"https://colab.research.google.com/github/yandys86/TECHIS-JS-A-YANDYS/blob/main/array_stacks_queues.ipynb\" target=\"_parent\"><img src=\"https://colab.research.google.com/assets/colab-badge.svg\" alt=\"Open In Colab\"/></a>"
      ]
    },
    {
      "cell_type": "code",
      "execution_count": 13,
      "metadata": {
        "colab": {
          "base_uri": "https://localhost:8080/"
        },
        "id": "0r8tcyu1RlqT",
        "outputId": "f4d461d1-7c90-4d8a-e74c-884839303c15"
      },
      "outputs": [
        {
          "output_type": "stream",
          "name": "stdout",
          "text": [
            "Initial array=  [1, 2, 3, 4, 5]\n",
            "Rotated Array= [4, 5, 1, 2, 3]\n"
          ]
        }
      ],
      "source": [
        "#array rotation\n",
        "a = [1,2,3,4,5]\n",
        "n = 3\n",
        "print(\"Initial array= \",a)\n",
        "reva = a\n",
        "for i in range(n):\n",
        "  reva=reva[1:]+[reva[0]]\n",
        "print(\"Rotated Array=\", reva)"
      ]
    },
    {
      "cell_type": "code",
      "source": [
        "#stacks\n",
        "a=[]\n",
        "\n",
        "a.append(1)\n",
        "a.append(2)\n",
        "a.append(3)\n",
        "print('elements after entering: ', a)\n",
        "\n",
        "a.pop()\n",
        "a.pop()\n",
        "print('elements after popping: ', a)"
      ],
      "metadata": {
        "colab": {
          "base_uri": "https://localhost:8080/"
        },
        "id": "ThheVQD5UoWj",
        "outputId": "9c4f53b6-0e2c-499c-be28-51e17fb44eee"
      },
      "execution_count": 16,
      "outputs": [
        {
          "output_type": "stream",
          "name": "stdout",
          "text": [
            "elements after entering:  [1, 2, 3]\n",
            "elements after popping:  [1]\n"
          ]
        }
      ]
    },
    {
      "cell_type": "code",
      "source": [
        "#Queues\n",
        "a=[]\n",
        "\n",
        "a.append(1)\n",
        "a.append(2)\n",
        "a.append(3)\n",
        "print('elements after inserting: ', a)\n",
        "\n",
        "a.pop(0)\n",
        "a.pop(0)\n",
        "print('elements after popping: ', a)\n",
        "\n",
        "\n"
      ],
      "metadata": {
        "colab": {
          "base_uri": "https://localhost:8080/"
        },
        "id": "r8DQ4okXWM-f",
        "outputId": "831393c9-1a5f-4184-e68d-4138ea4d9c06"
      },
      "execution_count": 19,
      "outputs": [
        {
          "output_type": "stream",
          "name": "stdout",
          "text": [
            "elements after inserting:  [1, 2, 3]\n",
            "elements after popping:  [3]\n"
          ]
        }
      ]
    },
    {
      "cell_type": "code",
      "source": [
        ""
      ],
      "metadata": {
        "id": "T6HmPVewXQRb"
      },
      "execution_count": null,
      "outputs": []
    }
  ]
}