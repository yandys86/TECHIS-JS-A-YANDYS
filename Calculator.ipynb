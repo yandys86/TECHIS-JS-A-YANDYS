{
  "nbformat": 4,
  "nbformat_minor": 0,
  "metadata": {
    "colab": {
      "name": "Calculator.ipynb",
      "provenance": [],
      "collapsed_sections": [],
      "authorship_tag": "ABX9TyMJkve28f1OgCrItR2ItxBu",
      "include_colab_link": true
    },
    "kernelspec": {
      "name": "python3",
      "display_name": "Python 3"
    },
    "language_info": {
      "name": "python"
    }
  },
  "cells": [
    {
      "cell_type": "markdown",
      "metadata": {
        "id": "view-in-github",
        "colab_type": "text"
      },
      "source": [
        "<a href=\"https://colab.research.google.com/github/yandys86/TECHIS-JS-A-YANDYS/blob/main/Calculator.ipynb\" target=\"_parent\"><img src=\"https://colab.research.google.com/assets/colab-badge.svg\" alt=\"Open In Colab\"/></a>"
      ]
    },
    {
      "cell_type": "code",
      "execution_count": null,
      "metadata": {
        "id": "ZOoCpAxFVwoQ"
      },
      "outputs": [],
      "source": [
        "print(\"Welcome Calculator\")\n",
        "menu = \"\"\"\n",
        "1.- +\n",
        "2.- -\n",
        "3.- *\n",
        "4.- /\n",
        "5.- (a + b)^2\n",
        "\"\"\"\n",
        "print(menu)\n",
        "opt=input(\"Enter the operation: \")\n",
        "num1 = input(\"enter num 1:\")\n",
        "num2 = input(\"enter num 2:\")\n",
        "\n",
        "if(opt=='1'):\n",
        "  print(\"Result is: \", float(num1) + float(num2))\n",
        "elif(opt=='2'):\n",
        "  print(\"Result is: \", float(num1) - float(num2))\n",
        "elif(opt=='3'):\n",
        "  print(\"Result is: \", float(num1) * float(num2))\n",
        "elif(opt=='4'):\n",
        "  print(\"Result is: \", float(num1) / float(num2))\n",
        "elif(opt=='5'):\n",
        "  print(\"Result is: \", (float(num1) + float(num2))**2) \n"
      ]
    },
    {
      "cell_type": "code",
      "source": [
        "\n",
        "\n"
      ],
      "metadata": {
        "id": "23_Klc1Yezkd"
      },
      "execution_count": null,
      "outputs": []
    }
  ]
}