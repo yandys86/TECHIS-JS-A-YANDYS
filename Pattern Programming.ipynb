{
  "nbformat": 4,
  "nbformat_minor": 0,
  "metadata": {
    "colab": {
      "name": "Untitled5.ipynb",
      "provenance": [],
      "authorship_tag": "ABX9TyOXMPhw5RM6j+D1ichk5kPt",
      "include_colab_link": true
    },
    "kernelspec": {
      "name": "python3",
      "display_name": "Python 3"
    },
    "language_info": {
      "name": "python"
    }
  },
  "cells": [
    {
      "cell_type": "markdown",
      "metadata": {
        "id": "view-in-github",
        "colab_type": "text"
      },
      "source": [
        "<a href=\"https://colab.research.google.com/github/yandys86/TECHIS-JS-A-YANDYS/blob/main/Pattern%20Programming.ipynb\" target=\"_parent\"><img src=\"https://colab.research.google.com/assets/colab-badge.svg\" alt=\"Open In Colab\"/></a>"
      ]
    },
    {
      "cell_type": "code",
      "execution_count": 16,
      "metadata": {
        "colab": {
          "base_uri": "https://localhost:8080/"
        },
        "id": "hgLql7U4FckP",
        "outputId": "db5b9a75-fae6-43f4-b3e0-2d400855406e"
      },
      "outputs": [
        {
          "output_type": "stream",
          "name": "stdout",
          "text": [
            "@\n",
            "@@\n",
            "@@@\n",
            "@@@@\n",
            "@@@@@\n"
          ]
        }
      ],
      "source": [
        "for i in range(1,6):\n",
        "  for j in range (i):\n",
        "    print('@',end = \"\")\n",
        "  print()"
      ]
    },
    {
      "cell_type": "code",
      "source": [
        "for i in range(6):\n",
        "  for j in range (5-i):\n",
        "    print(' ', end='')\n",
        "  for j in range(i):\n",
        "    print('* ',end = '')\n",
        "  print()"
      ],
      "metadata": {
        "colab": {
          "base_uri": "https://localhost:8080/"
        },
        "id": "cy3wgDlJOXwP",
        "outputId": "849ea1dd-fe31-4489-ce95-364018d5278e"
      },
      "execution_count": 25,
      "outputs": [
        {
          "output_type": "stream",
          "name": "stdout",
          "text": [
            "     \n",
            "    * \n",
            "   * * \n",
            "  * * * \n",
            " * * * * \n",
            "* * * * * \n"
          ]
        }
      ]
    },
    {
      "cell_type": "code",
      "source": [
        "for i in range(1,6):\n",
        "  for j in range (5-i):\n",
        "    print(' ', end='')\n",
        "\n",
        "  for j in range(i):\n",
        "    if(j==i-1):\n",
        "      print('*',end = '')\n",
        "    else:\n",
        "        print('*_',end = '')\n",
        "  print()\n",
        "\n",
        "  #top part\n",
        "\n",
        "for i in range (1,5):\n",
        "  for j in range (i):\n",
        "    print(' ', end ='')\n",
        "  for j in range (5-i):\n",
        "      if (j == 5-1-i):\n",
        "       print('*', end='')\n",
        "      else:\n",
        "        print('*_', end ='')\n",
        "  print()\n",
        "\n"
      ],
      "metadata": {
        "colab": {
          "base_uri": "https://localhost:8080/"
        },
        "id": "uem6Jr9daX2a",
        "outputId": "50baa6d2-3560-425b-d830-b7a73eebfd5d"
      },
      "execution_count": 45,
      "outputs": [
        {
          "output_type": "stream",
          "name": "stdout",
          "text": [
            "    *\n",
            "   *_*\n",
            "  *_*_*\n",
            " *_*_*_*\n",
            "*_*_*_*_*\n",
            " *_*_*_*\n",
            "  *_*_*\n",
            "   *_*\n",
            "    *\n"
          ]
        }
      ]
    }
  ]
}