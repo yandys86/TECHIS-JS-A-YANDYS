{
  "nbformat": 4,
  "nbformat_minor": 0,
  "metadata": {
    "colab": {
      "name": " swapvariables.ipynb",
      "provenance": [],
      "authorship_tag": "ABX9TyOjjYCvCKHf79ViBFbTnSzG",
      "include_colab_link": true
    },
    "kernelspec": {
      "name": "python3",
      "display_name": "Python 3"
    },
    "language_info": {
      "name": "python"
    }
  },
  "cells": [
    {
      "cell_type": "markdown",
      "metadata": {
        "id": "view-in-github",
        "colab_type": "text"
      },
      "source": [
        "<a href=\"https://colab.research.google.com/github/yandys86/TECHIS-JS-A-YANDYS/blob/main/swapvariables.ipynb\" target=\"_parent\"><img src=\"https://colab.research.google.com/assets/colab-badge.svg\" alt=\"Open In Colab\"/></a>"
      ]
    },
    {
      "cell_type": "code",
      "execution_count": null,
      "metadata": {
        "id": "ymYx5mJSowev"
      },
      "outputs": [],
      "source": [
        "print(\"Enter x valor: \")\n",
        "x = int(input())\n",
        "print(\"Enter y valor: \")\n",
        "y = int(input())\n",
        "temp = 0\n",
        "menu = \"\"\"\n",
        "1-. Yes\n",
        "2-. No\n",
        "\"\"\"\n",
        "print(\"Do you want to swap?...\")\n",
        "print(menu)\n",
        "opt = input()\n",
        "if(opt=='1'):\n",
        "  temp = x\n",
        "  x = y\n",
        "  y = temp\n",
        "  print(\"x= \", x)\n",
        "  print(\"y= \", y)\n",
        "else:\n",
        "  print(\"bye\")"
      ]
    }
  ]
}