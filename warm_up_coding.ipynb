{
  "nbformat": 4,
  "nbformat_minor": 0,
  "metadata": {
    "colab": {
      "name": "warm up coding.ipynb",
      "provenance": [],
      "authorship_tag": "ABX9TyPGg151WRsAT1yuL7nGr+t/",
      "include_colab_link": true
    },
    "kernelspec": {
      "name": "python3",
      "display_name": "Python 3"
    },
    "language_info": {
      "name": "python"
    }
  },
  "cells": [
    {
      "cell_type": "markdown",
      "metadata": {
        "id": "view-in-github",
        "colab_type": "text"
      },
      "source": [
        "<a href=\"https://colab.research.google.com/github/yandys86/TECHIS-JS-A-YANDYS/blob/main/warm_up_coding.ipynb\" target=\"_parent\"><img src=\"https://colab.research.google.com/assets/colab-badge.svg\" alt=\"Open In Colab\"/></a>"
      ]
    },
    {
      "cell_type": "code",
      "execution_count": 9,
      "metadata": {
        "colab": {
          "base_uri": "https://localhost:8080/"
        },
        "id": "bJDQ9ZAsIKOO",
        "outputId": "a3a85016-c129-4776-99cd-866ae3de0dd5"
      },
      "outputs": [
        {
          "output_type": "stream",
          "name": "stdout",
          "text": [
            "enter the Number: 4\n",
            "The number is even/par\n"
          ]
        }
      ],
      "source": [
        "#number odd or even / numero par o impar\n",
        "n = int(input(\"enter the Number: \"))\n",
        "if n % 2 == 0: \n",
        "  print(\"The number is even/par\")\n",
        "else: \n",
        "  print(\"the number is odd/impar\")"
      ]
    },
    {
      "cell_type": "code",
      "source": [
        "#Leap Year /  año biciestro \n",
        "year = int(input(\"Enter the year:\"))\n",
        "if year % 4==0 and year % 100 !=0 or year  % 400 == 0:\n",
        "  print(\"the year\", year, \" is a Leap year\")\n",
        "else:\n",
        "   print(\"the year\", year, \" is not a Leap year\")\n"
      ],
      "metadata": {
        "colab": {
          "base_uri": "https://localhost:8080/"
        },
        "id": "53M5x4AyJhwH",
        "outputId": "d2bf90aa-9cc3-4aea-d653-8c30940999a5"
      },
      "execution_count": 28,
      "outputs": [
        {
          "output_type": "stream",
          "name": "stdout",
          "text": [
            "Enter the year:3\n",
            "the year 3  is not a Leap year\n"
          ]
        }
      ]
    },
    {
      "cell_type": "markdown",
      "source": [
        "a Leap Year is when:\n",
        "1: the year is divisible by 4 \n",
        "    exception case: 1900, 1700, the are divisible by but there are not leap year\n",
        "2: the year are divisible by 100 are not necesesarily leap year\n",
        "    exeption 2000, 2400, 2800 they are divisible by 4 , 100 and 400 but the are \n",
        "    leap year\n",
        "3: the year which are divisible by 400 are also leap year"
      ],
      "metadata": {
        "id": "xspQ_j53JuSD"
      }
    },
    {
      "cell_type": "code",
      "source": [
        "# prime number\n",
        "n = int(input(\"enter the number: \"))\n",
        "c = 0\n",
        "for i in range (1, n+1):\n",
        "  if n%i == 0:\n",
        "    c = c+1\n",
        "print(c)\n",
        "if c==2:\n",
        "  print(\"the number \", n , \"is a prime number\")    \n",
        "else:\n",
        "  print(\"the number \", n , \"is not a prime number\")    "
      ],
      "metadata": {
        "colab": {
          "base_uri": "https://localhost:8080/"
        },
        "id": "7HlDo-sTNH4j",
        "outputId": "3d8d68db-5b0a-48cb-da88-90119b2fa494"
      },
      "execution_count": 41,
      "outputs": [
        {
          "output_type": "stream",
          "name": "stdout",
          "text": [
            "enter the number: 9\n",
            "3\n",
            "the number  9 is not a prime number\n"
          ]
        }
      ]
    },
    {
      "cell_type": "markdown",
      "source": [
        "a number is prime when:\n",
        "1: a number have an 1 as factor\n",
        "2: and the number can divide by 1 and by it self\n",
        "3: a prime number should have only 2 factor divisible 1 and the same number"
      ],
      "metadata": {
        "id": "Jq13KIoRNKNc"
      }
    },
    {
      "cell_type": "code",
      "source": [
        "#armstrong number\n",
        "n = int(input(\"enter number: \"))\n",
        "num = n\n",
        "sum =0\n",
        "while n>0:\n",
        "  #print('looping: ')\n",
        "  d = n%10\n",
        "  #print('d= ', d)\n",
        "  sum = sum + (d*d*d)\n",
        "  #print('sum= ', sum)\n",
        "  n=int(n/10)\n",
        "  #print('n= ',n)\n",
        "if sum == num:\n",
        "  print(\"it is an armstrong number\")\n",
        "else:\n",
        "  print(\"it is not an armstrong number\") "
      ],
      "metadata": {
        "colab": {
          "base_uri": "https://localhost:8080/"
        },
        "id": "miV_B30DWDvQ",
        "outputId": "20ee83cd-4c1f-4862-cb70-29f17ca4ba00"
      },
      "execution_count": 13,
      "outputs": [
        {
          "output_type": "stream",
          "name": "stdout",
          "text": [
            "enter number: 4564631\n",
            "it is not an armstrong number\n"
          ]
        }
      ]
    },
    {
      "cell_type": "code",
      "source": [
        "#Perfect Number\n",
        "n = int(input('Enter the number: '))\n",
        "val = int(n ** 0.50)\n",
        "\n",
        "if val * val == n:\n",
        "  \n",
        "  print('Perfect Number')\n",
        "else:\n",
        "  print('Not Perfect Number')"
      ],
      "metadata": {
        "colab": {
          "base_uri": "https://localhost:8080/"
        },
        "id": "MQ18d9K3LtZy",
        "outputId": "53722137-f866-4c2c-b29d-71deacf79f86"
      },
      "execution_count": 25,
      "outputs": [
        {
          "output_type": "stream",
          "name": "stdout",
          "text": [
            "Enter the number: 24\n",
            "Not Perfect Number\n"
          ]
        }
      ]
    }
  ]
}